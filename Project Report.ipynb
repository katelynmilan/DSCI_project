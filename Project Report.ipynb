{
 "cells": [
  {
   "cell_type": "markdown",
   "id": "6271f700-8a30-4ab3-a636-ebcbf067f388",
   "metadata": {},
   "source": [
    "Heart Diease Report "
   ]
  },
  {
   "cell_type": "code",
   "execution_count": 100,
   "id": "12d3c012-4132-4beb-b651-e80d49f4c941",
   "metadata": {},
   "outputs": [
    {
     "name": "stderr",
     "output_type": "stream",
     "text": [
      "\u001b[1mRows: \u001b[22m\u001b[34m303\u001b[39m \u001b[1mColumns: \u001b[22m\u001b[34m14\u001b[39m\n",
      "\u001b[36m──\u001b[39m \u001b[1mColumn specification\u001b[22m \u001b[36m────────────────────────────────────────────────────────\u001b[39m\n",
      "\u001b[1mDelimiter:\u001b[22m \",\"\n",
      "\u001b[31mchr\u001b[39m  (2): ca, thal\n",
      "\u001b[32mdbl\u001b[39m (12): age, sex, cp, trestbps, chol, fbs, restecg, thalach, exang, oldpea...\n",
      "\n",
      "\u001b[36mℹ\u001b[39m Use `spec()` to retrieve the full column specification for this data.\n",
      "\u001b[36mℹ\u001b[39m Specify the column types or set `show_col_types = FALSE` to quiet this message.\n"
     ]
    },
    {
     "data": {
      "text/html": [
       "<table class=\"dataframe\">\n",
       "<caption>A spec_tbl_df: 303 × 14</caption>\n",
       "<thead>\n",
       "\t<tr><th scope=col>age</th><th scope=col>sex</th><th scope=col>cp</th><th scope=col>trestbps</th><th scope=col>chol</th><th scope=col>fbs</th><th scope=col>restecg</th><th scope=col>thalach</th><th scope=col>exang</th><th scope=col>oldpeak</th><th scope=col>slope</th><th scope=col>ca</th><th scope=col>thal</th><th scope=col>num</th></tr>\n",
       "\t<tr><th scope=col>&lt;dbl&gt;</th><th scope=col>&lt;dbl&gt;</th><th scope=col>&lt;dbl&gt;</th><th scope=col>&lt;dbl&gt;</th><th scope=col>&lt;dbl&gt;</th><th scope=col>&lt;dbl&gt;</th><th scope=col>&lt;dbl&gt;</th><th scope=col>&lt;dbl&gt;</th><th scope=col>&lt;dbl&gt;</th><th scope=col>&lt;dbl&gt;</th><th scope=col>&lt;dbl&gt;</th><th scope=col>&lt;chr&gt;</th><th scope=col>&lt;chr&gt;</th><th scope=col>&lt;dbl&gt;</th></tr>\n",
       "</thead>\n",
       "<tbody>\n",
       "\t<tr><td>63</td><td>1</td><td>1</td><td>145</td><td>233</td><td>1</td><td>2</td><td>150</td><td>0</td><td>2.3</td><td>3</td><td>0.0</td><td>6.0</td><td>0</td></tr>\n",
       "\t<tr><td>67</td><td>1</td><td>4</td><td>160</td><td>286</td><td>0</td><td>2</td><td>108</td><td>1</td><td>1.5</td><td>2</td><td>3.0</td><td>3.0</td><td>2</td></tr>\n",
       "\t<tr><td>67</td><td>1</td><td>4</td><td>120</td><td>229</td><td>0</td><td>2</td><td>129</td><td>1</td><td>2.6</td><td>2</td><td>2.0</td><td>7.0</td><td>1</td></tr>\n",
       "\t<tr><td>⋮</td><td>⋮</td><td>⋮</td><td>⋮</td><td>⋮</td><td>⋮</td><td>⋮</td><td>⋮</td><td>⋮</td><td>⋮</td><td>⋮</td><td>⋮</td><td>⋮</td><td>⋮</td></tr>\n",
       "\t<tr><td>57</td><td>1</td><td>4</td><td>130</td><td>131</td><td>0</td><td>0</td><td>115</td><td>1</td><td>1.2</td><td>2</td><td>1.0</td><td>7.0</td><td>3</td></tr>\n",
       "\t<tr><td>57</td><td>0</td><td>2</td><td>130</td><td>236</td><td>0</td><td>2</td><td>174</td><td>0</td><td>0.0</td><td>2</td><td>1.0</td><td>3.0</td><td>1</td></tr>\n",
       "\t<tr><td>38</td><td>1</td><td>3</td><td>138</td><td>175</td><td>0</td><td>0</td><td>173</td><td>0</td><td>0.0</td><td>1</td><td>?  </td><td>3.0</td><td>0</td></tr>\n",
       "</tbody>\n",
       "</table>\n"
      ],
      "text/latex": [
       "A spec\\_tbl\\_df: 303 × 14\n",
       "\\begin{tabular}{llllllllllllll}\n",
       " age & sex & cp & trestbps & chol & fbs & restecg & thalach & exang & oldpeak & slope & ca & thal & num\\\\\n",
       " <dbl> & <dbl> & <dbl> & <dbl> & <dbl> & <dbl> & <dbl> & <dbl> & <dbl> & <dbl> & <dbl> & <chr> & <chr> & <dbl>\\\\\n",
       "\\hline\n",
       "\t 63 & 1 & 1 & 145 & 233 & 1 & 2 & 150 & 0 & 2.3 & 3 & 0.0 & 6.0 & 0\\\\\n",
       "\t 67 & 1 & 4 & 160 & 286 & 0 & 2 & 108 & 1 & 1.5 & 2 & 3.0 & 3.0 & 2\\\\\n",
       "\t 67 & 1 & 4 & 120 & 229 & 0 & 2 & 129 & 1 & 2.6 & 2 & 2.0 & 7.0 & 1\\\\\n",
       "\t ⋮ & ⋮ & ⋮ & ⋮ & ⋮ & ⋮ & ⋮ & ⋮ & ⋮ & ⋮ & ⋮ & ⋮ & ⋮ & ⋮\\\\\n",
       "\t 57 & 1 & 4 & 130 & 131 & 0 & 0 & 115 & 1 & 1.2 & 2 & 1.0 & 7.0 & 3\\\\\n",
       "\t 57 & 0 & 2 & 130 & 236 & 0 & 2 & 174 & 0 & 0.0 & 2 & 1.0 & 3.0 & 1\\\\\n",
       "\t 38 & 1 & 3 & 138 & 175 & 0 & 0 & 173 & 0 & 0.0 & 1 & ?   & 3.0 & 0\\\\\n",
       "\\end{tabular}\n"
      ],
      "text/markdown": [
       "\n",
       "A spec_tbl_df: 303 × 14\n",
       "\n",
       "| age &lt;dbl&gt; | sex &lt;dbl&gt; | cp &lt;dbl&gt; | trestbps &lt;dbl&gt; | chol &lt;dbl&gt; | fbs &lt;dbl&gt; | restecg &lt;dbl&gt; | thalach &lt;dbl&gt; | exang &lt;dbl&gt; | oldpeak &lt;dbl&gt; | slope &lt;dbl&gt; | ca &lt;chr&gt; | thal &lt;chr&gt; | num &lt;dbl&gt; |\n",
       "|---|---|---|---|---|---|---|---|---|---|---|---|---|---|\n",
       "| 63 | 1 | 1 | 145 | 233 | 1 | 2 | 150 | 0 | 2.3 | 3 | 0.0 | 6.0 | 0 |\n",
       "| 67 | 1 | 4 | 160 | 286 | 0 | 2 | 108 | 1 | 1.5 | 2 | 3.0 | 3.0 | 2 |\n",
       "| 67 | 1 | 4 | 120 | 229 | 0 | 2 | 129 | 1 | 2.6 | 2 | 2.0 | 7.0 | 1 |\n",
       "| ⋮ | ⋮ | ⋮ | ⋮ | ⋮ | ⋮ | ⋮ | ⋮ | ⋮ | ⋮ | ⋮ | ⋮ | ⋮ | ⋮ |\n",
       "| 57 | 1 | 4 | 130 | 131 | 0 | 0 | 115 | 1 | 1.2 | 2 | 1.0 | 7.0 | 3 |\n",
       "| 57 | 0 | 2 | 130 | 236 | 0 | 2 | 174 | 0 | 0.0 | 2 | 1.0 | 3.0 | 1 |\n",
       "| 38 | 1 | 3 | 138 | 175 | 0 | 0 | 173 | 0 | 0.0 | 1 | ?   | 3.0 | 0 |\n",
       "\n"
      ],
      "text/plain": [
       "    age sex cp trestbps chol fbs restecg thalach exang oldpeak slope ca  thal\n",
       "1   63  1   1  145      233  1   2       150     0     2.3     3     0.0 6.0 \n",
       "2   67  1   4  160      286  0   2       108     1     1.5     2     3.0 3.0 \n",
       "3   67  1   4  120      229  0   2       129     1     2.6     2     2.0 7.0 \n",
       "⋮   ⋮   ⋮   ⋮  ⋮        ⋮    ⋮   ⋮       ⋮       ⋮     ⋮       ⋮     ⋮   ⋮   \n",
       "301 57  1   4  130      131  0   0       115     1     1.2     2     1.0 7.0 \n",
       "302 57  0   2  130      236  0   2       174     0     0.0     2     1.0 3.0 \n",
       "303 38  1   3  138      175  0   0       173     0     0.0     1     ?   3.0 \n",
       "    num\n",
       "1   0  \n",
       "2   2  \n",
       "3   1  \n",
       "⋮   ⋮  \n",
       "301 3  \n",
       "302 1  \n",
       "303 0  "
      ]
     },
     "metadata": {},
     "output_type": "display_data"
    }
   ],
   "source": [
    "library(tidyverse) \n",
    "library(tidymodels)\n",
    "library(gridExtra)\n",
    "options(repr.matrix.max.rows = 6)\n",
    "url <-\"https://raw.githubusercontent.com/katelynmilan/DSCI_project/main/processed.cleveland.data\"\n",
    "data_set <- read_csv(url, col_names = c(\"age\", \"sex\", \"cp\", \"trestbps\", \"chol\", \"fbs\", \"restecg\", \"thalach\", \"exang\", \"oldpeak\", \"slope\", \"ca\", \"thal\", \"num\"))\n",
    "data_set"
   ]
  },
  {
   "cell_type": "code",
   "execution_count": 103,
   "id": "76a1105c-6109-4133-9d77-6c197aab03ec",
   "metadata": {},
   "outputs": [
    {
     "data": {
      "text/html": [
       "<table class=\"dataframe\">\n",
       "<caption>A tibble: 226 × 4</caption>\n",
       "<thead>\n",
       "\t<tr><th scope=col>Age</th><th scope=col>Sex</th><th scope=col>Cholesterol</th><th scope=col>Heart_Disease</th></tr>\n",
       "\t<tr><th scope=col>&lt;dbl&gt;</th><th scope=col>&lt;dbl&gt;</th><th scope=col>&lt;dbl&gt;</th><th scope=col>&lt;chr&gt;</th></tr>\n",
       "</thead>\n",
       "<tbody>\n",
       "\t<tr><td>63</td><td>1</td><td>233</td><td>0</td></tr>\n",
       "\t<tr><td>37</td><td>1</td><td>250</td><td>0</td></tr>\n",
       "\t<tr><td>41</td><td>0</td><td>204</td><td>0</td></tr>\n",
       "\t<tr><td>⋮</td><td>⋮</td><td>⋮</td><td>⋮</td></tr>\n",
       "\t<tr><td>54</td><td>1</td><td>286</td><td>3</td></tr>\n",
       "\t<tr><td>55</td><td>0</td><td>205</td><td>3</td></tr>\n",
       "\t<tr><td>59</td><td>1</td><td>176</td><td>3</td></tr>\n",
       "</tbody>\n",
       "</table>\n"
      ],
      "text/latex": [
       "A tibble: 226 × 4\n",
       "\\begin{tabular}{llll}\n",
       " Age & Sex & Cholesterol & Heart\\_Disease\\\\\n",
       " <dbl> & <dbl> & <dbl> & <chr>\\\\\n",
       "\\hline\n",
       "\t 63 & 1 & 233 & 0\\\\\n",
       "\t 37 & 1 & 250 & 0\\\\\n",
       "\t 41 & 0 & 204 & 0\\\\\n",
       "\t ⋮ & ⋮ & ⋮ & ⋮\\\\\n",
       "\t 54 & 1 & 286 & 3\\\\\n",
       "\t 55 & 0 & 205 & 3\\\\\n",
       "\t 59 & 1 & 176 & 3\\\\\n",
       "\\end{tabular}\n"
      ],
      "text/markdown": [
       "\n",
       "A tibble: 226 × 4\n",
       "\n",
       "| Age &lt;dbl&gt; | Sex &lt;dbl&gt; | Cholesterol &lt;dbl&gt; | Heart_Disease &lt;chr&gt; |\n",
       "|---|---|---|---|\n",
       "| 63 | 1 | 233 | 0 |\n",
       "| 37 | 1 | 250 | 0 |\n",
       "| 41 | 0 | 204 | 0 |\n",
       "| ⋮ | ⋮ | ⋮ | ⋮ |\n",
       "| 54 | 1 | 286 | 3 |\n",
       "| 55 | 0 | 205 | 3 |\n",
       "| 59 | 1 | 176 | 3 |\n",
       "\n"
      ],
      "text/plain": [
       "    Age Sex Cholesterol Heart_Disease\n",
       "1   63  1   233         0            \n",
       "2   37  1   250         0            \n",
       "3   41  0   204         0            \n",
       "⋮   ⋮   ⋮   ⋮           ⋮            \n",
       "224 54  1   286         3            \n",
       "225 55  0   205         3            \n",
       "226 59  1   176         3            "
      ]
     },
     "metadata": {},
     "output_type": "display_data"
    }
   ],
   "source": [
    "clean_data <- data_set|> \n",
    "select(age, sex, chol, num) |> \n",
    "rename(Heart_Disease = num, Cholesterol = chol, Age = age, Sex = sex)|>\n",
    "mutate(Heart_Disease = as.character(Heart_Disease))   \n",
    "\n",
    "data_split <- initial_split(clean_data, prop = 0.75, strata = Heart_Disease)\n",
    "data_train <- training(data_split)\n",
    "data_test <- testing(data_split)\n",
    "\n",
    "data_train "
   ]
  },
  {
   "cell_type": "code",
   "execution_count": 104,
   "id": "cf618e36-efe2-460d-9feb-9d138bb55f4b",
   "metadata": {},
   "outputs": [
    {
     "data": {
      "text/html": [
       "<table class=\"dataframe\">\n",
       "<caption>A tibble: 77 × 4</caption>\n",
       "<thead>\n",
       "\t<tr><th scope=col>.pred_class</th><th scope=col>age</th><th scope=col>cholesterol</th><th scope=col>heart_disease</th></tr>\n",
       "\t<tr><th scope=col>&lt;fct&gt;</th><th scope=col>&lt;dbl&gt;</th><th scope=col>&lt;dbl&gt;</th><th scope=col>&lt;fct&gt;</th></tr>\n",
       "</thead>\n",
       "<tbody>\n",
       "\t<tr><td>0</td><td>41</td><td>204</td><td>0</td></tr>\n",
       "\t<tr><td>1</td><td>62</td><td>268</td><td>3</td></tr>\n",
       "\t<tr><td>0</td><td>57</td><td>354</td><td>0</td></tr>\n",
       "\t<tr><td>⋮</td><td>⋮</td><td>⋮</td><td>⋮</td></tr>\n",
       "\t<tr><td>0</td><td>63</td><td>187</td><td>2</td></tr>\n",
       "\t<tr><td>0</td><td>68</td><td>193</td><td>2</td></tr>\n",
       "\t<tr><td>3</td><td>38</td><td>175</td><td>0</td></tr>\n",
       "</tbody>\n",
       "</table>\n"
      ],
      "text/latex": [
       "A tibble: 77 × 4\n",
       "\\begin{tabular}{llll}\n",
       " .pred\\_class & age & cholesterol & heart\\_disease\\\\\n",
       " <fct> & <dbl> & <dbl> & <fct>\\\\\n",
       "\\hline\n",
       "\t 0 & 41 & 204 & 0\\\\\n",
       "\t 1 & 62 & 268 & 3\\\\\n",
       "\t 0 & 57 & 354 & 0\\\\\n",
       "\t ⋮ & ⋮ & ⋮ & ⋮\\\\\n",
       "\t 0 & 63 & 187 & 2\\\\\n",
       "\t 0 & 68 & 193 & 2\\\\\n",
       "\t 3 & 38 & 175 & 0\\\\\n",
       "\\end{tabular}\n"
      ],
      "text/markdown": [
       "\n",
       "A tibble: 77 × 4\n",
       "\n",
       "| .pred_class &lt;fct&gt; | age &lt;dbl&gt; | cholesterol &lt;dbl&gt; | heart_disease &lt;fct&gt; |\n",
       "|---|---|---|---|\n",
       "| 0 | 41 | 204 | 0 |\n",
       "| 1 | 62 | 268 | 3 |\n",
       "| 0 | 57 | 354 | 0 |\n",
       "| ⋮ | ⋮ | ⋮ | ⋮ |\n",
       "| 0 | 63 | 187 | 2 |\n",
       "| 0 | 68 | 193 | 2 |\n",
       "| 3 | 38 | 175 | 0 |\n",
       "\n"
      ],
      "text/plain": [
       "   .pred_class age cholesterol heart_disease\n",
       "1  0           41  204         0            \n",
       "2  1           62  268         3            \n",
       "3  0           57  354         0            \n",
       "⋮  ⋮           ⋮   ⋮           ⋮            \n",
       "75 0           63  187         2            \n",
       "76 0           68  193         2            \n",
       "77 3           38  175         0            "
      ]
     },
     "metadata": {},
     "output_type": "display_data"
    }
   ],
   "source": [
    "set.seed(42069)\n",
    "\n",
    "clean_data <- data_set|> \n",
    "select(age, chol, num) |> \n",
    "rename(heart_disease = num, cholesterol = chol, age = age)|>\n",
    "mutate(heart_disease = as.factor(heart_disease))   \n",
    "\n",
    "data_split <- initial_split(clean_data, prop = 0.75, strata = heart_disease)\n",
    "data_train <- training(data_split)\n",
    "data_test <- testing(data_split)\n",
    "\n",
    "heart_recipe <- recipe(heart_disease ~ age + cholesterol, data = clean_data)|>\n",
    "                    step_scale(all_predictors())|>\n",
    "                    step_center(all_predictors())\n",
    "\n",
    "heart_model <- nearest_neighbor(weight_func = \"rectangular\", neighbors = tune())|>\n",
    "            set_engine(\"kknn\")|>\n",
    "            set_mode(\"classification\")\n",
    "\n",
    "heart_workflow <- workflow()|>\n",
    "                    add_model(heart_model)|>\n",
    "                    add_recipe(heart_recipe)\n",
    "\n",
    "heart_vfold <- vfold_cv(data_train, v = 5, strata = heart_disease)\n",
    "\n",
    "grid_vals <- tibble(neighbors = seq(from = 1, to = 10, by = 1))\n",
    "\n",
    "best_k <- heart_workflow |>\n",
    "            tune_grid(resamples = heart_vfold, grid = grid_vals)|>\n",
    "            collect_metrics()|>\n",
    "            filter(.metric == \"accuracy\")|>\n",
    "            slice_min(mean, n = 1)\n",
    "\n",
    "heart_spec <- nearest_neighbor(weight_func = \"rectangular\", neighbors = 2)|>\n",
    "            set_engine(\"kknn\")|>\n",
    "            set_mode(\"classification\")\n",
    "\n",
    "knn_fit <- workflow()|>\n",
    "            add_model(heart_spec)|>\n",
    "            add_recipe(heart_recipe)|>\n",
    "            fit(data = data_train)\n",
    "\n",
    "heart_pred <- knn_fit |> \n",
    "           predict(data_test) |>\n",
    "           bind_cols(data_test)\n",
    "           \n",
    "\n",
    "heart_pred"
   ]
  },
  {
   "cell_type": "code",
   "execution_count": null,
   "id": "57b3b74b-3f81-441f-992f-eab54c2fb574",
   "metadata": {},
   "outputs": [],
   "source": []
  }
 ],
 "metadata": {
  "kernelspec": {
   "display_name": "R",
   "language": "R",
   "name": "ir"
  },
  "language_info": {
   "codemirror_mode": "r",
   "file_extension": ".r",
   "mimetype": "text/x-r-source",
   "name": "R",
   "pygments_lexer": "r",
   "version": "4.3.1"
  }
 },
 "nbformat": 4,
 "nbformat_minor": 5
}
